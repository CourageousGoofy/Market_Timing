{
  "nbformat": 4,
  "nbformat_minor": 0,
  "metadata": {
    "colab": {
      "name": "Volatility Timing - VIX.ipynb",
      "version": "0.3.2",
      "provenance": [],
      "collapsed_sections": [],
      "include_colab_link": true
    },
    "kernelspec": {
      "name": "python3",
      "display_name": "Python 3"
    }
  },
  "cells": [
    {
      "cell_type": "markdown",
      "metadata": {
        "id": "view-in-github",
        "colab_type": "text"
      },
      "source": [
        "<a href=\"https://colab.research.google.com/github/CourageousGoofy/Market_Timing/blob/master/Volatility_Timing_VIX.ipynb\" target=\"_parent\"><img src=\"https://colab.research.google.com/assets/colab-badge.svg\" alt=\"Open In Colab\"/></a>"
      ]
    },
    {
      "cell_type": "markdown",
      "metadata": {
        "id": "X5-NE_A76u4R",
        "colab_type": "text"
      },
      "source": [
        " **Strategy Backtest. \n",
        " Assume a long-only portfolio with leverage, adjusting net exposure based on market 'fear' level. Bechmark is a simply buy-and-hold portfolio.**\n",
        " \n",
        "Reference voalitlity Index:\\\n",
        "VXO - SP100 voaltility index\\\n",
        "VIX - SP 500 volatility index\\\n",
        "RVX - R2000 voalitliy index\\\n",
        "\\\n",
        "Coding reference:\\\n",
        "https://stackoverflow.com/questions/26886653/pandas-create-new-column-based-on-values-from-other-columns\n"
      ]
    },
    {
      "cell_type": "markdown",
      "metadata": {
        "id": "t7cPdz1nGKZk",
        "colab_type": "text"
      },
      "source": [
        "VIX moving average period: act as a singal delay\\\n",
        "i.e. wait till market has fell for a bit then add up exposure\\\n",
        "VIX requires a time to build up.. so when it reached certain threshold, stocks price has been down by some %\\\n",
        "\n",
        "Reduce MA period, i.e. set signal line as 3-day MV or 2-day MV. \\\n",
        "When ‘n’ is too large, might miss the opportunity as VIX is unlikely to sustain at high level\\\n",
        "before trim down exposure, wait till market bounce a bit\\\n",
        "we may add in a screw coefficiet\\\n",
        "i.e. it takes markets 5 days to tumble but 10 days to catch up\\\n",
        "\\\n",
        "\\\n",
        "**NEXT STEP - combine with SMA cross"
      ]
    },
    {
      "cell_type": "code",
      "metadata": {
        "id": "GjSPfCuH6lNz",
        "colab_type": "code",
        "colab": {}
      },
      "source": [
        "import pandas as pd\n",
        "from pandas import DataFrame as df\n",
        "import numpy as np\n",
        "from pandas_datareader import data\n",
        "from matplotlib import pyplot\n",
        "from statsmodels.graphics.tsaplots import plot_acf, plot_pacf\n",
        "\n",
        "\n",
        "tickers = ['SHV', '^VIX','SPY']\n",
        "# ORDER MATTERS, for flexibility reason\n",
        "# tickers = ['low risk asset', 'volatility index', 'risky asset']\n",
        "# '^VXO' - CBOE s&p 100 volatiltiy index\n",
        "# 'SHV' - ishares short-term bond ETF, duration < 1yr\n",
        "start= '2009-12-31'\n",
        "end = '2019-4-30'\n",
        "# Data sources can be yahoo, morning star, etc. \n",
        "price = data.DataReader(tickers,'yahoo',start,end)['Adj Close']\n",
        "price_adj = price.fillna(method='ffill')\n",
        "\n",
        "# price_LQD = dat[('Adj Close','LQD')]\n",
        "# XCS.to_csv(\"XCS.csv\") #XCS = pd.read_csv(\"test_data.csv\")\n"
      ],
      "execution_count": 0,
      "outputs": []
    },
    {
      "cell_type": "markdown",
      "metadata": {
        "id": "3l1GRafu7Uhp",
        "colab_type": "text"
      },
      "source": [
        "**Backtest**\\\n",
        "\\\n",
        "**Part 1 - Strategy**"
      ]
    },
    {
      "cell_type": "markdown",
      "metadata": {
        "id": "3wzMDz6hob3y",
        "colab_type": "text"
      },
      "source": [
        "At qucik look at VIX percentile"
      ]
    },
    {
      "cell_type": "code",
      "metadata": {
        "id": "L41ytmy1otBE",
        "colab_type": "code",
        "outputId": "d5e59ee0-9ae2-4985-e254-471a6318de24",
        "colab": {
          "base_uri": "https://localhost:8080/",
          "height": 424
        }
      },
      "source": [
        "# Parameters (some will need to be optimized)\n",
        "# a longer historical period to visualize VIX spikes\n",
        "start_k1 = '2000-12-31'\n",
        "end_k1 = '2017-12-31'\n",
        "# a shorter hisotrical period to determine 'low' VIX levels\n",
        "k2 = 750 #i.e. 3 years\n",
        "# a longer hisotrical period to determine 'high' VIX levels\n",
        "k3 = 1250 #i.e. 5 years\n",
        "# holding period once we increased exposure. 'singal_rolling_max' period. \n",
        "t1 = 126 #i.e. 6 months\n",
        "# SMA days for recent VIX level, 'vix_sma_st' is use for assessing recent market mood\n",
        "t2 = 30 \n",
        "# VIX percentile threshold, a signal that market calms down\n",
        "p_calm = 0.5\n",
        "\n",
        "# look back period for max asset price\n",
        "t3 = 90\n",
        "\n",
        "\n",
        "# visualize data\n",
        "vix_ticker = ['^VIX'] \n",
        "vix_hist = data.DataReader(vix_ticker,'yahoo',start_k1,end_k1)['Adj Close']\n",
        "vix_hist = vix_hist.fillna(method='ffill')\n",
        "vix_hist.plot()\n",
        "print(np.percentile(vix_hist, q = [10,30,50,80,90]))\n",
        "print(np.percentile(vix_hist, q = [80,90,95,97,99]))\n",
        "\n",
        "# VIX SMA\n",
        "vix = price_adj[\"^VIX\"]\n",
        "vix_sma_5 = price[\"^VIX\"].rolling(5).mean()\n",
        "vix_sma_st = price[\"^VIX\"].rolling(t2).mean()\n",
        "\n",
        "# VIX percentile threshold\n",
        "vix_20 = vix.rolling(k3).quantile(0.2, interpolation = 'midpoint').dropna()\n",
        "vix_60 = vix.rolling(k3).quantile(0.5, interpolation = 'midpoint').dropna()\n",
        "vix_90 = vix.rolling(k3).quantile(0.9, interpolation = 'midpoint').dropna()\n",
        "vix_95 = vix.rolling(k3).quantile(0.95, interpolation = 'midpoint').dropna()\n",
        "vix_99 = vix.rolling(k3).quantile(0.99, interpolation = 'midpoint').dropna()\n",
        "vix_calm = vix.rolling(k2, min_periods = 100).quantile(p_calm, interpolation = 'midpoint').dropna()\n",
        "vix_calm.plot()\n",
        "\n",
        "# ETF price\n",
        "\n",
        "asset_price = price_adj.iloc[:,1]\n",
        "asset_price.columns = ['asset price']\n",
        "asset_previous_high = asset_price.rolling(t3,min_periods = 10).max()\n",
        "\n",
        "print(asset_price.head())\n"
      ],
      "execution_count": 0,
      "outputs": [
        {
          "output_type": "stream",
          "text": [
            "[11.68000031 14.06000042 17.20000076 24.79000092 30.71999931]\n",
            "[24.79000092 30.71999931 36.33000183 42.03750038 54.65000057]\n",
            "Date\n",
            "2009-12-31    92.561058\n",
            "2010-01-04    94.130867\n",
            "2010-01-05    94.380074\n",
            "2010-01-06    94.446495\n",
            "2010-01-07    94.845207\n",
            "Name: SPY, dtype: float64\n"
          ],
          "name": "stdout"
        },
        {
          "output_type": "display_data",
          "data": {
            "image/png": "[encoded data removed]",
            "text/plain": [
              "<Figure size 432x288 with 1 Axes>"
            ]
          },
          "metadata": {
            "tags": []
          }
        }
      ]
    },
    {
      "cell_type": "markdown",
      "metadata": {
        "id": "a6laYMFhIh5O",
        "colab_type": "text"
      },
      "source": [
        "**Singal - Version 1**"
      ]
    },
    {
      "cell_type": "code",
      "metadata": {
        "id": "33j92xqT8Cru",
        "colab_type": "code",
        "colab": {}
      },
      "source": [
        "# define factor dataframe\n",
        "factors = pd.concat([vix, vix_90, vix_95, vix_99, vix_20, vix_60], axis=1)\n",
        "factors.columns = ['vix','vix90','vix95','vix99', 'vix20','vix60']\n",
        "factors = factors.dropna()\n",
        "\n",
        "# define signal function\n",
        "# reduce net exposure as VIX goes down (buy when others fear!)\n",
        "\n",
        "# Version 1 - dynamic\n",
        "def add_weight_dynamic(factors):\n",
        "  if factors['vix'] > factors['vix99']:\n",
        "    return 2.5\n",
        "  elif factors['vix'] > factors['vix95']:\n",
        "    return 1.5\n",
        "  elif  factors['vix'] > factors['vix20']: \n",
        "    return 0.5\n",
        "  return 0.33"
      ],
      "execution_count": 0,
      "outputs": []
    },
    {
      "cell_type": "markdown",
      "metadata": {
        "id": "oWluV3A6IlGj",
        "colab_type": "text"
      },
      "source": [
        "**Signal - Version 2**\\\n",
        "Inputs:\n",
        "1. vix level\n",
        "2. price level"
      ]
    },
    {
      "cell_type": "code",
      "metadata": {
        "id": "XnRa1-wAI0n5",
        "colab_type": "code",
        "colab": {}
      },
      "source": [
        "# define factor dataframe\n",
        "factors = pd.concat([vix, vix_sma_st, vix_calm, asset_price, asset_previous_high], axis=1)\n",
        "factors.columns = ['vix','vix_sma_st','vix_calm','asset_price','asset_price_high']\n",
        "factors = factors.dropna()\n",
        "\n",
        "# Version 2 - fixed \n",
        "def add_weight_fix(factors):\n",
        "  if factors['vix'] > 35:\n",
        "    return 2\n",
        "  elif factors['vix'] > 30:\n",
        "    return 1.5\n",
        "  elif factors['vix'] > 25:\n",
        "    return 1.25\n"
      ],
      "execution_count": 0,
      "outputs": []
    },
    {
      "cell_type": "markdown",
      "metadata": {
        "id": "6tuO7oOnL2yD",
        "colab_type": "text"
      },
      "source": [
        "**Rebalancing**"
      ]
    },
    {
      "cell_type": "code",
      "metadata": {
        "id": "RdkgWCphJUYT",
        "colab_type": "code",
        "outputId": "91efb522-5019-47f3-b682-5ba7e9eb0a25",
        "colab": {
          "base_uri": "https://localhost:8080/",
          "height": 121
        }
      },
      "source": [
        "# add 'signal' column (CHOOSE WHICH SIGNAL TO USE)\n",
        "factors['signal'] = factors.apply(add_weight_fix, axis=1)\n",
        "# add rolling_max column - hold for a while once increased weight\n",
        "factors['singal_rolling_max'] = factors['signal'].rolling(t1).max()\n",
        "\n",
        "\n",
        "# Define Rebalance Rules\n",
        "def rebalance(factors):\n",
        "  if factors['vix_sma_st'] < factors['vix_calm'] or factors['asset_price'] > factors['asset_price_high']*0.99:\n",
        "    return factors['signal']\n",
        "  return factors['singal_rolling_max']\n",
        "\n",
        "\n",
        "# add 'target position' column - positoins to be at the eod (end of day)\n",
        "factors['target_position'] = factors.apply(rebalance, axis=1)\n",
        "factors = factors.dropna()\n",
        "\n",
        "# add 'actual position'\n",
        "# positions at the start of the trading day, equal to previous day's eod position\n",
        "factors['actual_position'] = factors['target_position'].shift(periods=1, axis='index')\n",
        "factors = factors.dropna()"
      ],
      "execution_count": 0,
      "outputs": [
        {
          "output_type": "stream",
          "text": [
            "/usr/local/lib/python3.6/dist-packages/ipykernel_launcher.py:19: SettingWithCopyWarning: \n",
            "A value is trying to be set on a copy of a slice from a DataFrame.\n",
            "Try using .loc[row_indexer,col_indexer] = value instead\n",
            "\n",
            "See the caveats in the documentation: http://pandas.pydata.org/pandas-docs/stable/indexing.html#indexing-view-versus-copy\n"
          ],
          "name": "stderr"
        }
      ]
    },
    {
      "cell_type": "code",
      "metadata": {
        "id": "WYlO7KxWXaBi",
        "colab_type": "code",
        "colab": {}
      },
      "source": [
        ""
      ],
      "execution_count": 0,
      "outputs": []
    },
    {
      "cell_type": "code",
      "metadata": {
        "id": "Wp6ZteVS9BYK",
        "colab_type": "code",
        "colab": {}
      },
      "source": [
        "print(factors.head(20))\n",
        "print(factors.tail(20))\n",
        "#print (factors.iloc[:,5:])\n",
        "#print(price_adj)\n",
        "#print(pd.concat([spy, spy_fwd, price['SPY']], axis=1))\n"
      ],
      "execution_count": 0,
      "outputs": []
    },
    {
      "cell_type": "markdown",
      "metadata": {
        "id": "LCFoVR8QsVlp",
        "colab_type": "text"
      },
      "source": [
        "**Part 2 - Performance Metrics**"
      ]
    },
    {
      "cell_type": "code",
      "metadata": {
        "id": "Cgx8xuHOsaXd",
        "colab_type": "code",
        "outputId": "7d296365-5c06-4879-d629-c381cd93fb95",
        "colab": {
          "base_uri": "https://localhost:8080/",
          "height": 273
        }
      },
      "source": [
        "# 1-day forward 1-day return\n",
        "spy = price['SPY'].pct_change()\n",
        "spy_fwd = spy.shift(periods=-1, axis='index')\n",
        "spy_fwd.fillna(0)\n",
        "spy_fwd.columns = [\"return\"]\n",
        "\n",
        "return_series = pd.concat([factors['actual_position'], spy], axis=1).dropna()\n",
        "return_series.columns = ['actual_position','ETF_ret']                    \n",
        "\n",
        "return_series[\"port_ret\"] = return_series['actual_position'] * return_series[\"ETF_ret\"]\n",
        "\n",
        "ts = return_series[[\"ETF_ret\", \"port_ret\"]]+1 #gross returns benchmark vs. portfolio\n",
        "cum_ts = ts.cumprod()\n",
        "cum_ts.plot()\n",
        "\n",
        "factors_diagnostics = factors\n",
        "factors_diagnostics['spy price'] = price_adj['SPY']\n"
      ],
      "execution_count": 0,
      "outputs": [
        {
          "output_type": "display_data",
          "data": {
            "image/png": "[encoded data removed]",
            "text/plain": [
              "<Figure size 432x288 with 1 Axes>"
            ]
          },
          "metadata": {
            "tags": []
          }
        }
      ]
    },
    {
      "cell_type": "code",
      "metadata": {
        "id": "JViZnTojaeBh",
        "colab_type": "code",
        "outputId": "4eb76f89-0772-4fad-e302-81be08b9a44b",
        "colab": {
          "base_uri": "https://localhost:8080/",
          "height": 420
        }
      },
      "source": [
        "#print(return_series.head(10))\n",
        "print(return_series.actual_position.head(10))\n",
        "print(return_series.actual_position.tail(10))\n",
        "\n"
      ],
      "execution_count": 0,
      "outputs": [
        {
          "output_type": "stream",
          "text": [
            "Date\n",
            "2010-12-29    0.3\n",
            "2010-12-30    0.3\n",
            "2010-12-31    0.3\n",
            "2011-01-03    0.3\n",
            "2011-01-04    0.3\n",
            "2011-01-05    0.3\n",
            "2011-01-06    0.3\n",
            "2011-01-07    0.3\n",
            "2011-01-10    0.3\n",
            "2011-01-11    0.3\n",
            "Name: actual_position, dtype: object\n",
            "Date\n",
            "2019-04-16    <bound method Rolling.max of Rolling [window=1...\n",
            "2019-04-17    <bound method Rolling.max of Rolling [window=1...\n",
            "2019-04-18    <bound method Rolling.max of Rolling [window=1...\n",
            "2019-04-22    <bound method Rolling.max of Rolling [window=1...\n",
            "2019-04-23    <bound method Rolling.max of Rolling [window=1...\n",
            "2019-04-24    <bound method Rolling.max of Rolling [window=1...\n",
            "2019-04-25    <bound method Rolling.max of Rolling [window=1...\n",
            "2019-04-26    <bound method Rolling.max of Rolling [window=1...\n",
            "2019-04-29    <bound method Rolling.max of Rolling [window=1...\n",
            "2019-04-30    <bound method Rolling.max of Rolling [window=1...\n",
            "Name: actual_position, dtype: object\n"
          ],
          "name": "stdout"
        }
      ]
    },
    {
      "cell_type": "markdown",
      "metadata": {
        "id": "KezrFTGx77dR",
        "colab_type": "text"
      },
      "source": [
        "\n",
        "Daily Return/Risk/Skew Profile"
      ]
    },
    {
      "cell_type": "code",
      "metadata": {
        "id": "_wK3FHbt372d",
        "colab_type": "code",
        "colab": {}
      },
      "source": [
        "ret_daily = price.pct_change(periods = 1) \n",
        "rolling_period = 60\n",
        "std_roll = ret_daily.rolling(rolling_period).std()\n",
        "ret_roll = price.pct_change(periods = rolling_period)\n",
        "skew_roll = ret_daily.rolling(500).skew()\n",
        "print(skew_roll)\n",
        "std_roll.plot()\n",
        "ret_roll.plot()\n",
        "skew_roll.plot()\n",
        "\n",
        "\n",
        "# Rolling Profile\n",
        "n = 10 # set return periods\n",
        "ret = price.pct_change(periods = n)\n",
        "skew_roll = vix.rolling(500).skew()\n",
        "skew_roll.plot()\n",
        "print(skew_roll)"
      ],
      "execution_count": 0,
      "outputs": []
    },
    {
      "cell_type": "markdown",
      "metadata": {
        "id": "9vLW1v8xbHPt",
        "colab_type": "text"
      },
      "source": [
        "SMA Backtest"
      ]
    },
    {
      "cell_type": "code",
      "metadata": {
        "id": "yu0K1CM1REQN",
        "colab_type": "code",
        "colab": {}
      },
      "source": [
        "short_period = 21\n",
        "long_period = 50\n",
        "\n",
        "price_xiu = price['XIU.TO']\n",
        "smas = price_xiu.rolling(short_period).mean()\n",
        "smal = price_xiu.rolling(long_period).mean()\n",
        "signal = (((smas - smal)>0)*1-0.5)*2\n",
        "\n",
        "print(signal)\n",
        "print(signal.isna().sum())"
      ],
      "execution_count": 0,
      "outputs": []
    },
    {
      "cell_type": "code",
      "metadata": {
        "id": "rRrntvDTUwJ6",
        "colab_type": "code",
        "outputId": "ba279fc7-64ce-4a5a-8872-08989458027b",
        "colab": {
          "base_uri": "https://localhost:8080/",
          "height": 290
        }
      },
      "source": [
        "sim_ret = signal*ret_daily['XIU.TO']\n",
        "gross_sim_ret = sim_return + 1 \n",
        "cum_sim_ret = gross_sim_ret.cumprod()-1\n",
        "#print(sim_return)\n",
        "#print(cum_sim_ret)\n",
        "cum_sim_ret.plot()"
      ],
      "execution_count": 0,
      "outputs": [
        {
          "output_type": "execute_result",
          "data": {
            "text/plain": [
              "<matplotlib.axes._subplots.AxesSubplot at 0x7f81b2308ac8>"
            ]
          },
          "metadata": {
            "tags": []
          },
          "execution_count": 50
        },
        {
          "output_type": "display_data",
          "data": {
            "image/png": "[encoded data removed]",
            "text/plain": [
              "<Figure size 432x288 with 1 Axes>"
            ]
          },
          "metadata": {
            "tags": []
          }
        }
      ]
    },
    {
      "cell_type": "code",
      "metadata": {
        "id": "ygct4kuiJa5r",
        "colab_type": "code",
        "colab": {}
      },
      "source": [
        "#var = ret.var(axis=0)\n",
        "#print(var)\n",
        "#std = ret.std(axis=0)\n",
        "#print(std)\n"
      ],
      "execution_count": 0,
      "outputs": []
    },
    {
      "cell_type": "markdown",
      "metadata": {
        "id": "uA_wxuTr5n4v",
        "colab_type": "text"
      },
      "source": [
        "Risk Budgeting Framework"
      ]
    },
    {
      "cell_type": "code",
      "metadata": {
        "id": "evS72u1kMQSH",
        "colab_type": "code",
        "outputId": "5d961ff8-8f72-471f-86dc-0b77156d38d8",
        "colab": {
          "base_uri": "https://localhost:8080/",
          "height": 354
        }
      },
      "source": [
        "from scipy.optimize import minimize\n",
        "\n",
        "w0 = [0.2, 0.6, 0.2] # initial weight\n",
        "V = cov # covariance matrix\n",
        "TRC = [0.25, 0.5, 0.25] # target risk contr. as % of inital portfolio vol \n",
        "\n",
        "cons = ({'type': 'eq', 'fun': total_weight_constraint},\n",
        "        {'type': 'ineq', 'fun': long_only_constraint}) # 'ineq'constraint by default means non-negative\n",
        "res= minimize(risk_objective_function, w0, args=[cov, TRC], method='SLSQP',constraints=cons, options={'disp': True})\n",
        "w_rb = np.asmatrix(res.x)"
      ],
      "execution_count": 0,
      "outputs": [
        {
          "output_type": "error",
          "ename": "TypeError",
          "evalue": "ignored",
          "traceback": [
            "\u001b[0;31m---------------------------------------------------------------------------\u001b[0m",
            "\u001b[0;31mTypeError\u001b[0m                                 Traceback (most recent call last)",
            "\u001b[0;32m<ipython-input-74-4c98b5682f9c>\u001b[0m in \u001b[0;36m<module>\u001b[0;34m()\u001b[0m\n\u001b[1;32m      7\u001b[0m cons = ({'type': 'eq', 'fun': total_weight_constraint},\n\u001b[1;32m      8\u001b[0m         {'type': 'ineq', 'fun': long_only_constraint}) # 'ineq'constraint by default means non-negative\n\u001b[0;32m----> 9\u001b[0;31m \u001b[0mres\u001b[0m\u001b[0;34m=\u001b[0m \u001b[0mminimize\u001b[0m\u001b[0;34m(\u001b[0m\u001b[0mrisk_objective_function\u001b[0m\u001b[0;34m,\u001b[0m \u001b[0mw0\u001b[0m\u001b[0;34m,\u001b[0m \u001b[0margs\u001b[0m\u001b[0;34m=\u001b[0m\u001b[0;34m[\u001b[0m\u001b[0mcov\u001b[0m\u001b[0;34m,\u001b[0m \u001b[0mTRC\u001b[0m\u001b[0;34m]\u001b[0m\u001b[0;34m,\u001b[0m \u001b[0mmethod\u001b[0m\u001b[0;34m=\u001b[0m\u001b[0;34m'SLSQP'\u001b[0m\u001b[0;34m,\u001b[0m\u001b[0mconstraints\u001b[0m\u001b[0;34m=\u001b[0m\u001b[0mcons\u001b[0m\u001b[0;34m,\u001b[0m \u001b[0moptions\u001b[0m\u001b[0;34m=\u001b[0m\u001b[0;34m{\u001b[0m\u001b[0;34m'disp'\u001b[0m\u001b[0;34m:\u001b[0m \u001b[0;32mTrue\u001b[0m\u001b[0;34m}\u001b[0m\u001b[0;34m)\u001b[0m\u001b[0;34m\u001b[0m\u001b[0;34m\u001b[0m\u001b[0m\n\u001b[0m\u001b[1;32m     10\u001b[0m \u001b[0mw_rb\u001b[0m \u001b[0;34m=\u001b[0m \u001b[0mnp\u001b[0m\u001b[0;34m.\u001b[0m\u001b[0masmatrix\u001b[0m\u001b[0;34m(\u001b[0m\u001b[0mres\u001b[0m\u001b[0;34m.\u001b[0m\u001b[0mx\u001b[0m\u001b[0;34m)\u001b[0m\u001b[0;34m\u001b[0m\u001b[0;34m\u001b[0m\u001b[0m\n",
            "\u001b[0;32m/usr/local/lib/python3.6/dist-packages/scipy/optimize/_minimize.py\u001b[0m in \u001b[0;36mminimize\u001b[0;34m(fun, x0, args, method, jac, hess, hessp, bounds, constraints, tol, callback, options)\u001b[0m\n\u001b[1;32m    607\u001b[0m     \u001b[0;32melif\u001b[0m \u001b[0mmeth\u001b[0m \u001b[0;34m==\u001b[0m \u001b[0;34m'slsqp'\u001b[0m\u001b[0;34m:\u001b[0m\u001b[0;34m\u001b[0m\u001b[0;34m\u001b[0m\u001b[0m\n\u001b[1;32m    608\u001b[0m         return _minimize_slsqp(fun, x0, args, jac, bounds,\n\u001b[0;32m--> 609\u001b[0;31m                                constraints, callback=callback, **options)\n\u001b[0m\u001b[1;32m    610\u001b[0m     \u001b[0;32melif\u001b[0m \u001b[0mmeth\u001b[0m \u001b[0;34m==\u001b[0m \u001b[0;34m'trust-constr'\u001b[0m\u001b[0;34m:\u001b[0m\u001b[0;34m\u001b[0m\u001b[0;34m\u001b[0m\u001b[0m\n\u001b[1;32m    611\u001b[0m         return _minimize_trustregion_constr(fun, x0, args, jac, hess, hessp,\n",
            "\u001b[0;32m/usr/local/lib/python3.6/dist-packages/scipy/optimize/slsqp.py\u001b[0m in \u001b[0;36m_minimize_slsqp\u001b[0;34m(func, x0, args, jac, bounds, constraints, maxiter, ftol, iprint, disp, eps, callback, **unknown_options)\u001b[0m\n\u001b[1;32m    397\u001b[0m \u001b[0;34m\u001b[0m\u001b[0m\n\u001b[1;32m    398\u001b[0m             \u001b[0;31m# Compute objective function\u001b[0m\u001b[0;34m\u001b[0m\u001b[0;34m\u001b[0m\u001b[0;34m\u001b[0m\u001b[0m\n\u001b[0;32m--> 399\u001b[0;31m             \u001b[0mfx\u001b[0m \u001b[0;34m=\u001b[0m \u001b[0mfunc\u001b[0m\u001b[0;34m(\u001b[0m\u001b[0mx\u001b[0m\u001b[0;34m)\u001b[0m\u001b[0;34m\u001b[0m\u001b[0;34m\u001b[0m\u001b[0m\n\u001b[0m\u001b[1;32m    400\u001b[0m             \u001b[0;32mtry\u001b[0m\u001b[0;34m:\u001b[0m\u001b[0;34m\u001b[0m\u001b[0;34m\u001b[0m\u001b[0m\n\u001b[1;32m    401\u001b[0m                 \u001b[0mfx\u001b[0m \u001b[0;34m=\u001b[0m \u001b[0mfloat\u001b[0m\u001b[0;34m(\u001b[0m\u001b[0mnp\u001b[0m\u001b[0;34m.\u001b[0m\u001b[0masarray\u001b[0m\u001b[0;34m(\u001b[0m\u001b[0mfx\u001b[0m\u001b[0;34m)\u001b[0m\u001b[0;34m)\u001b[0m\u001b[0;34m\u001b[0m\u001b[0;34m\u001b[0m\u001b[0m\n",
            "\u001b[0;32m/usr/local/lib/python3.6/dist-packages/scipy/optimize/optimize.py\u001b[0m in \u001b[0;36mfunction_wrapper\u001b[0;34m(*wrapper_args)\u001b[0m\n\u001b[1;32m    298\u001b[0m     \u001b[0;32mdef\u001b[0m \u001b[0mfunction_wrapper\u001b[0m\u001b[0;34m(\u001b[0m\u001b[0;34m*\u001b[0m\u001b[0mwrapper_args\u001b[0m\u001b[0;34m)\u001b[0m\u001b[0;34m:\u001b[0m\u001b[0;34m\u001b[0m\u001b[0;34m\u001b[0m\u001b[0m\n\u001b[1;32m    299\u001b[0m         \u001b[0mncalls\u001b[0m\u001b[0;34m[\u001b[0m\u001b[0;36m0\u001b[0m\u001b[0;34m]\u001b[0m \u001b[0;34m+=\u001b[0m \u001b[0;36m1\u001b[0m\u001b[0;34m\u001b[0m\u001b[0;34m\u001b[0m\u001b[0m\n\u001b[0;32m--> 300\u001b[0;31m         \u001b[0;32mreturn\u001b[0m \u001b[0mfunction\u001b[0m\u001b[0;34m(\u001b[0m\u001b[0;34m*\u001b[0m\u001b[0;34m(\u001b[0m\u001b[0mwrapper_args\u001b[0m \u001b[0;34m+\u001b[0m \u001b[0margs\u001b[0m\u001b[0;34m)\u001b[0m\u001b[0;34m)\u001b[0m\u001b[0;34m\u001b[0m\u001b[0;34m\u001b[0m\u001b[0m\n\u001b[0m\u001b[1;32m    301\u001b[0m \u001b[0;34m\u001b[0m\u001b[0m\n\u001b[1;32m    302\u001b[0m     \u001b[0;32mreturn\u001b[0m \u001b[0mncalls\u001b[0m\u001b[0;34m,\u001b[0m \u001b[0mfunction_wrapper\u001b[0m\u001b[0;34m\u001b[0m\u001b[0;34m\u001b[0m\u001b[0m\n",
            "\u001b[0;31mTypeError\u001b[0m: risk_objective_function() missing 1 required positional argument: 'TRC'"
          ]
        }
      ]
    },
    {
      "cell_type": "code",
      "metadata": {
        "id": "wsCuwt1InAyY",
        "colab_type": "code",
        "outputId": "63112ccc-8dde-49ed-e7e1-101d5f4ce6f3",
        "colab": {
          "base_uri": "https://localhost:8080/",
          "height": 67
        }
      },
      "source": [
        ""
      ],
      "execution_count": 0,
      "outputs": [
        {
          "output_type": "execute_result",
          "data": {
            "text/plain": [
              "matrix([[ 0.02084394],\n",
              "        [-0.04264155],\n",
              "        [ 0.02104696]])"
            ]
          },
          "metadata": {
            "tags": []
          },
          "execution_count": 57
        }
      ]
    }
  ]
}